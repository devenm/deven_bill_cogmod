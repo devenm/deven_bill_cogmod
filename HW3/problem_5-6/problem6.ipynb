{
 "cells": [
  {
   "cell_type": "markdown",
   "metadata": {},
   "source": [
    "Problem 6 is done in the same notebook as problem 5 towards the end\n",
    "-> problem5.ipynb"
   ]
  }
 ],
 "metadata": {
  "language_info": {
   "name": "python"
  }
 },
 "nbformat": 4,
 "nbformat_minor": 2
}
