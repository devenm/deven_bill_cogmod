{
 "cells": [
  {
   "cell_type": "code",
   "execution_count": 1,
   "metadata": {},
   "outputs": [],
   "source": [
    "import numpy as np\n"
   ]
  },
  {
   "cell_type": "code",
   "execution_count": 8,
   "metadata": {},
   "outputs": [],
   "source": [
    "vehicles = (\"car\", \"truck\", \"bus\")\n",
    "prior = (0.7, 0.2, 0.1)\n",
    "\n",
    "lanes = (\"left\", \"right\")\n",
    "car_prob = (0.5, 0.5)\n",
    "truck_prob = (0.2, 0.8)\n",
    "bus_prob = (0.9, 0.1)\n",
    "\n",
    "def spawn_vehicle(vehicles, prior, lanes, car_prob, truck_prob, bus_prob):\n",
    "    v = np.random.choice(vehicles, p=prior)\n",
    "    if v == \"car\" : likelihood = car_prob\n",
    "    elif v == \"truck\" : likelihood = truck_prob\n",
    "    else : likelihood = bus_prob\n",
    "\n",
    "    l = np.random.choice(lanes, p=likelihood)\n",
    "\n",
    "    return v + \" from the \" + l"
   ]
  },
  {
   "cell_type": "code",
   "execution_count": 15,
   "metadata": {},
   "outputs": [
    {
     "name": "stdout",
     "output_type": "stream",
     "text": [
      "bus from the left occurred with a probability of 0.08898.\n",
      "bus from the right occurred with a probability of 0.01108.\n",
      "car from the left occurred with a probability of 0.3522.\n",
      "car from the right occurred with a probability of 0.34858.\n",
      "truck from the left occurred with a probability of 0.04014.\n",
      "truck from the right occurred with a probability of 0.15902.\n"
     ]
    }
   ],
   "source": [
    "\n",
    "def simulator(*args, num_sims):\n",
    "    return [spawn_vehicle(*args) for _ in range(num_sims)]\n",
    "\n",
    "N = 50000\n",
    "sims = simulator(vehicles, prior, lanes, car_prob, truck_prob, bus_prob, num_sims = N)\n",
    "scenarios, counts = np.unique(sims, return_counts=True)\n",
    "for s, c in zip(scenarios, counts):\n",
    "    print(f'{s} occurred with a probability of {c/N}.')"
   ]
  }
 ],
 "metadata": {
  "kernelspec": {
   "display_name": "base",
   "language": "python",
   "name": "python3"
  },
  "language_info": {
   "codemirror_mode": {
    "name": "ipython",
    "version": 3
   },
   "file_extension": ".py",
   "mimetype": "text/x-python",
   "name": "python",
   "nbconvert_exporter": "python",
   "pygments_lexer": "ipython3",
   "version": "3.11.5"
  }
 },
 "nbformat": 4,
 "nbformat_minor": 2
}
